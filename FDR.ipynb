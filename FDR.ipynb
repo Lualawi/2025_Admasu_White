{
 "cells": [
  {
   "cell_type": "code",
   "execution_count": 1,
   "id": "9692302c",
   "metadata": {},
   "outputs": [],
   "source": [
    "import xarray as xr\n",
    "import numpy as np\n",
    "from statsmodels.stats.multitest import fdrcorrection\n"
   ]
  },
  {
   "cell_type": "code",
   "execution_count": 7,
   "id": "736a0bc6",
   "metadata": {},
   "outputs": [],
   "source": [
    "#Apply FDR to t2m/blocking correlations\n",
    "\n",
    "pztO=xr.open_dataset('t2m_pvals_monthlyall_climsmoothed_Oampl2.nc')\n",
    "pzbO=xr.open_dataset('block_pvals_monthlyall_climsmoothed_Oampl2.nc')\n",
    "\n",
    "pztM=xr.open_dataset('t2m_pvals_monthlyall_climsmoothed_Mampl2.nc')\n",
    "pzbM=xr.open_dataset('block_pvals_monthlyall_climsmoothed_Mampl2.nc')\n",
    "\n",
    "pzto_st=pztO.stack(z={'latitude','longitude'})\n",
    "pnew_to=pzto_st.t2m.copy(deep=True)\n",
    "pnew_to.values=fdrcorrection(pnew_to.values,alpha=0.15, method='indep', is_sorted=False)[1]\n",
    "\n",
    "pztm_st=pztM.stack(z={'latitude','longitude'})\n",
    "pztm_drna=pztm_st.dropna(dim='z')\n",
    "pnew_tm=pztm_st.t2m.copy(deep=True)\n",
    "pnew_drnatm=pztm_drna.t2m.copy(deep=True)\n",
    "pzfdrst=fdrcorrection(pztm_drna.t2m.values,alpha=0.15, method='indep', is_sorted=False)[1]\n",
    "pnew_drnatm.values=pzfdrst\n",
    "pnew_tm.loc[pnew_tm.z.isin(pnew_drnatm.z)]=pnew_drnatm\n",
    "\n",
    "pzbo_st=pzbO.stack(z={'latitude','longitude'})\n",
    "pzbo_drna=pzbo_st.dropna(dim='z')\n",
    "pnew_bo=pzbo_st.block.copy(deep=True)\n",
    "pnew_drnabo=pzbo_drna.block.copy(deep=True)\n",
    "pzfdrbo=fdrcorrection(pzbo_drna.block.values,alpha=0.15, method='indep', is_sorted=False)[1]\n",
    "pnew_drnabo.values=pzfdrbo\n",
    "pnew_bo.loc[pnew_bo.z.isin(pnew_drnabo.z)]=pnew_drnabo\n",
    "\n",
    "pzbm_st=pzbM.stack(z={'latitude','longitude'})\n",
    "pzbm_drna=pzbm_st.dropna(dim='z')\n",
    "pnew_bm=pzbm_st.block.copy(deep=True)\n",
    "pnew_drnabm=pzbm_drna.block.copy(deep=True)\n",
    "pzfdrbm=fdrcorrection(pzbm_drna.block.values,alpha=0.15, method='indep', is_sorted=False)[1]\n",
    "pnew_drnabm.values=pzfdrbm\n",
    "pnew_bm.loc[pnew_bm.z.isin(pnew_drnabm.z)]=pnew_drnabm"
   ]
  },
  {
   "cell_type": "code",
   "execution_count": 10,
   "id": "f63d0900",
   "metadata": {},
   "outputs": [],
   "source": [
    "#Save to files\n",
    "pnew_to.unstack().to_netcdf('t2m_pvals_monthlyall_climsmoothed_Oampl_fdr2.nc')\n",
    "pnew_bo.unstack().to_netcdf('block_pvals_monthlyall_climsmoothed_Oampl_fdr2.nc')\n",
    "\n",
    "pnew_tm.unstack().to_netcdf('t2m_pvals_monthlyall_climsmoothed_Mampl_fdr2.nc')\n",
    "pnew_bm.unstack().to_netcdf('block_pvals_monthlyall_climsmoothed_Mampl_fdr2.nc')"
   ]
  },
  {
   "cell_type": "code",
   "execution_count": null,
   "id": "1faf9106",
   "metadata": {},
   "outputs": [],
   "source": [
    "#Apply fdr to MJO composites\n",
    "sigs=[]\n",
    "for j in range(8):\n",
    "    sig=xr.open_dataset('p-vals_mjo_phase'+str(j+1)+'1000x.nc')\n",
    "    sig_st=sig.stack(z={'latitude','longitude'})\n",
    "    sig_new=sig_st.q.copy(deep=True)\n",
    "    sig_new.values=fdrcorrection(sig_new.values,alpha=0.25, method='indep', is_sorted=False)[1]\n",
    "    sig_new.unstack().to_netcdf('p-vals_mjo_phase'+str(j+1)+'_1000x_fdr.nc')\n",
    "    sigs.append(sig_new)"
   ]
  },
  {
   "cell_type": "code",
   "execution_count": null,
   "id": "6c6988f7",
   "metadata": {},
   "outputs": [],
   "source": [
    "#Apply FDR to ENSO/SSW composites\n",
    "vars1=['elnino','lanina','neutral','ssw']\n",
    "for j in vars1:\n",
    "    sig=xr.open_dataset('pval_'+j+'.nc')\n",
    "    sig_st=sig.stack(z={'latitude','longitude'})\n",
    "    sig_new=sig_st.q.copy(deep=True)\n",
    "    sig_new.values=fdrcorrection(sig_new.values,alpha=0.05, method='indep', is_sorted=False)[1]\n",
    "    sig_new.unstack().to_netcdf('p-val_'+j+'_fdr.nc')"
   ]
  }
 ],
 "metadata": {
  "kernelspec": {
   "display_name": "Python 3 (ipykernel)",
   "language": "python",
   "name": "python3"
  },
  "language_info": {
   "codemirror_mode": {
    "name": "ipython",
    "version": 3
   },
   "file_extension": ".py",
   "mimetype": "text/x-python",
   "name": "python",
   "nbconvert_exporter": "python",
   "pygments_lexer": "ipython3",
   "version": "3.9.15"
  }
 },
 "nbformat": 4,
 "nbformat_minor": 5
}
