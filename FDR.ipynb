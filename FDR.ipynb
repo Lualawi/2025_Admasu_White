{
 "cells": [
  {
   "cell_type": "code",
   "execution_count": 1,
   "id": "9692302c",
   "metadata": {},
   "outputs": [],
   "source": [
    "import xarray as xr\n",
    "import numpy as np\n",
    "from statsmodels.stats.multitest import fdrcorrection\n"
   ]
  },
  {
   "cell_type": "code",
   "execution_count": 1,
   "id": "5050990f",
   "metadata": {},
   "outputs": [],
   "source": [
    "#Apply FDR to QSW -> background correlations in ECMWF\n",
    "pzu=xr.open_dataset('u_pvals_Mtemporal.nc')\n",
    "pzsst=xr.open_dataset('sst_pvals_Mtemporal.nc')\n",
    "pzu50=xr.open_dataset('u50_pvals_Mtemporal.nc')\n",
    "pzwg=xr.open_dataset('wg_pvals_Mtemporal.nc')\n",
    "\n",
    "pzu_st=pzu.stack(z={'latitude','longitude'})\n",
    "pnew_u=pzu_st.u.copy(deep=True)\n",
    "pnew_u.values=fdrcorrection(pzu_st.u.values,alpha=0.05, method='indep', is_sorted=False)[1]\n",
    "\n",
    "pzu50_st=pzu50.stack(z={'latitude','longitude'})\n",
    "pnew_u50=pzu50_st.u.copy(deep=True)\n",
    "pnew_u50.values=fdrcorrection(pzu50_st.u.values,alpha=0.05, method='indep', is_sorted=False)[1]\n",
    "\n",
    "pzsst_st=pzsst.stack(z={'latitude','longitude'})\n",
    "pzsst_drna=pzsst_st.dropna(dim='z')\n",
    "pnew_sst=pzsst_st.sst.copy(deep=True)\n",
    "pnew_drnasst=pzsst_drna.sst.copy(deep=True)\n",
    "pzfdrst=fdrcorrection(pzsst_drna.sst.values,alpha=0.05, method='indep', is_sorted=False)[1]\n",
    "pnew_drnasst.values=pzfdrst\n",
    "pnew_sst.loc[pnew_sst.z.isin(pnew_drnasst.z)]=pnew_drnasst\n",
    "\n",
    "pzwg_st=pzwg.stack(z={'latitude','longitude'})\n",
    "pzwg_drna=pzwg_st.dropna(dim='z')\n",
    "pnew_wg=pzwg_st.ngl_pv_rz.copy(deep=True)\n",
    "pnew_drnawg=pzwg_drna.ngl_pv_rz.copy(deep=True)\n",
    "pzfdrst=fdrcorrection(pzwg_drna.ngl_pv_rz.values,alpha=0.05, method='indep', is_sorted=False)[1]\n",
    "pnew_drnawg.values=pzfdrst\n",
    "pnew_wg.loc[pnew_wg.z.isin(pnew_drnawg.z)]=pnew_drnawg"
   ]
  },
  {
   "cell_type": "code",
   "execution_count": 2,
   "id": "f35e0915",
   "metadata": {},
   "outputs": [],
   "source": [
    "#SAVE to files\n",
    "pnew_u.unstack().to_dataset().to_netcdf('usk_pvals_fdr_new_Mtemporal.nc')\n",
    "pnew_sst.unstack().to_dataset().to_netcdf('sstsk_pvals_fdr_new_Mtemporal.nc')\n",
    "\n",
    "pnew_u50.unstack().to_dataset().to_netcdf('u50sk_pvals_fdr_new_Mtemporal.nc')\n",
    "pnew_wg.unstack().to_dataset().to_netcdf('wgsk_pvals_fdr_new_Mtemporal.nc')\n"
   ]
  },
  {
   "cell_type": "code",
   "execution_count": 3,
   "id": "9ca8cae7",
   "metadata": {},
   "outputs": [],
   "source": [
    "#Apply FDR to QSW -> background correlations in ERA5\n",
    "\n",
    "pzu=xr.open_dataset('u_pvals_Otemp.nc')\n",
    "pzsst=xr.open_dataset('sst_pvals_Otemp.nc')\n",
    "pzu50=xr.open_dataset('u50_pvals_Otemp.nc')\n",
    "pzwg=xr.open_dataset('wg_pvals_Otemp.nc')\n",
    "\n",
    "pzu_st=pzu.stack(z={'latitude','longitude'})\n",
    "pnew_u=pzu_st.u.copy(deep=True)\n",
    "pnew_u.values=fdrcorrection(pzu_st.u.values,alpha=0.05, method='indep', is_sorted=False)[1]\n",
    "\n",
    "pzu50_st=pzu50.stack(z={'latitude','longitude'})\n",
    "pnew_u50=pzu50_st.u.copy(deep=True)\n",
    "pnew_u50.values=fdrcorrection(pzu50_st.u.values,alpha=0.05, method='indep', is_sorted=False)[1]\n",
    "\n",
    "pzsst_st=pzsst.stack(z={'latitude','longitude'})\n",
    "pzsst_drna=pzsst_st.dropna(dim='z')\n",
    "pnew_sst=pzsst_st.sst.copy(deep=True)\n",
    "pnew_drnasst=pzsst_drna.sst.copy(deep=True)\n",
    "pzfdrst=fdrcorrection(pzsst_drna.sst.values,alpha=0.05, method='indep', is_sorted=False)[1]\n",
    "pnew_drnasst.values=pzfdrst\n",
    "pnew_sst.loc[pnew_sst.z.isin(pnew_drnasst.z)]=pnew_drnasst\n",
    "\n",
    "pzwg_st=pzwg.stack(z={'latitude','longitude'})\n",
    "pzwg_drna=pzwg_st.dropna(dim='z')\n",
    "pnew_wg=pzwg_st.ngl_pv_rz.copy(deep=True)\n",
    "pnew_drnawg=pzwg_drna.ngl_pv_rz.copy(deep=True)\n",
    "pzfdrst=fdrcorrection(pzwg_drna.ngl_pv_rz.values,alpha=0.05, method='indep', is_sorted=False)[1]\n",
    "pnew_drnawg.values=pzfdrst\n",
    "pnew_wg.loc[pnew_wg.z.isin(pnew_drnawg.z)]=pnew_drnawg"
   ]
  },
  {
   "cell_type": "code",
   "execution_count": 4,
   "id": "722d6b71",
   "metadata": {},
   "outputs": [],
   "source": [
    "#SAVE to files\n",
    "pnew_u.unstack().to_dataset().to_netcdf('usk_pvals_fdr_new_Otemporal.nc')\n",
    "pnew_sst.unstack().to_dataset().to_netcdf('sstsk_pvals_fdr_new_Otemporal.nc')\n",
    "\n",
    "pnew_u50.unstack().to_dataset().to_netcdf('u50sk_pvals_fdr_new_Otemporal.nc')\n",
    "pnew_wg.unstack().to_dataset().to_netcdf('wgsk_pvals_fdr_new_Otemporal.nc')"
   ]
  },
  {
   "cell_type": "code",
   "execution_count": 1,
   "id": "fb27bbc6",
   "metadata": {},
   "outputs": [],
   "source": [
    "#Apply FDR to QSW skill to background correlations\n",
    "pzu=xr.open_dataset('u_pvals_Mampl.nc')\n",
    "pzsst=xr.open_dataset('sst_pvals_Mampl.nc')\n",
    "pzu50=xr.open_dataset('u50_pvals.nc')\n",
    "pzgh=xr.open_dataset('gh_pvals_Mampl.nc')\n",
    "\n",
    "pzu_st=pzu.stack(z={'latitude','longitude'})\n",
    "pnew_u=pzu_st.u.copy(deep=True)\n",
    "pnew_u.values=fdrcorrection(pzu_st.u.values,alpha=0.05, method='indep', is_sorted=False)[1]\n",
    "\n",
    "pzu50_st=pzu50.stack(z={'latitude','longitude'})\n",
    "pnew_u50=pzu50_st.u.copy(deep=True)\n",
    "pnew_u50.values=fdrcorrection(pzu50_st.u.values,alpha=0.05, method='indep', is_sorted=False)[1]\n",
    "\n",
    "pzsst_st=pzsst.stack(z={'latitude','longitude'})\n",
    "pnew_sst=pzsst_st.sst.copy(deep=True)\n",
    "pnew_sst.values=fdrcorrection(pzsst_st.sst.values,alpha=0.05, method='indep', is_sorted=False)[1]\n",
    "\n",
    "pzwg_st=pzwg.stack(z={'latitude','longitude'})\n",
    "pnew_wg=pzwg_st.wg.copy(deep=True)\n",
    "pnew_wg.values=fdrcorrection(pzwg_st.wg.values,alpha=0.05, method='indep', is_sorted=False)[1]"
   ]
  },
  {
   "cell_type": "code",
   "execution_count": 2,
   "id": "267d4388",
   "metadata": {},
   "outputs": [],
   "source": [
    "#SAVE to files\n",
    "pnew_u.unstack().to_dataset().to_netcdf('u_pvals_fdr_MAMP_new.nc')\n",
    "pnew_sst.unstack().to_dataset().to_netcdf('sst_pvals_fdr_MAMP_new.nc')\n",
    "\n",
    "pnew_u50.unstack().to_dataset().to_netcdf('u50_pvals_fdr_new.nc')\n",
    "pnew_wg.unstack().to_dataset().to_netcdf('wg_pvals_fdr_MAMP_new.nc')\n"
   ]
  },
  {
   "cell_type": "code",
   "execution_count": 7,
   "id": "736a0bc6",
   "metadata": {},
   "outputs": [],
   "source": [
    "#Apply FDR to t2m/blocking correlations\n",
    "\n",
    "pztO=xr.open_dataset('t2m_pvals_Oampl.nc')\n",
    "pzbO=xr.open_dataset('block_pvals_Oampl.nc')\n",
    "\n",
    "pztM=xr.open_dataset('t2m_pvals_Mampl.nc')\n",
    "pzbM=xr.open_dataset('block_pvals_Mampl.nc')\n",
    "\n",
    "pzto_st=pztO.stack(z={'latitude','longitude'})\n",
    "pnew_to=pzto_st.t2m.copy(deep=True)\n",
    "pnew_to.values=fdrcorrection(pnew_to.values,alpha=0.05, method='indep', is_sorted=False)[1]\n",
    "\n",
    "pztm_st=pztM.stack(z={'latitude','longitude'})\n",
    "pnew_tm=pztm_st.t2m.copy(deep=True)\n",
    "pnew_tm.values=fdrcorrection(pnew_tm.values,alpha=0.05, method='indep', is_sorted=False)[1]\n",
    "\n",
    "pzbo_st=pzbO.stack(z={'latitude','longitude'})\n",
    "pzbo_drna=pzbo_st.dropna(dim='z')\n",
    "pnew_bo=pzbo_st.block.copy(deep=True)\n",
    "pnew_drnabo=pzbo_drna.block.copy(deep=True)\n",
    "pzfdrbo=fdrcorrection(pzbo_drna.block.values,alpha=0.05, method='indep', is_sorted=False)[1]\n",
    "pnew_drnabo.values=pzfdrbo\n",
    "pnew_bo.loc[pnew_bo.z.isin(pnew_drnabo.z)]=pnew_drnabo\n",
    "\n",
    "pzbm_st=pzbM.stack(z={'latitude','longitude'})\n",
    "pzbm_drna=pzbm_st.dropna(dim='z')\n",
    "pnew_bm=pzbm_st.block.copy(deep=True)\n",
    "pnew_drnabm=pzbm_drna.block.copy(deep=True)\n",
    "pzfdrbm=fdrcorrection(pzbm_drna.block.values,alpha=0.05, method='indep', is_sorted=False)[1]\n",
    "pnew_drnabm.values=pzfdrbm\n",
    "pnew_bm.loc[pnew_bm.z.isin(pnew_drnabm.z)]=pnew_drnabm"
   ]
  },
  {
   "cell_type": "code",
   "execution_count": 10,
   "id": "f63d0900",
   "metadata": {},
   "outputs": [],
   "source": [
    "#Save to files\n",
    "pnew_to.unstack().to_netcdf('t2m_pvals_Oampl_fdr.nc')\n",
    "pnew_bo.unstack().to_netcdf('block_pvals_Oampl_fdr.nc')\n",
    "\n",
    "pnew_tm.unstack().to_netcdf('t2m_pvals_Mampl_fdr.nc')\n",
    "pnew_bm.unstack().to_netcdf('block_pvals_Mampl_fdr.nc')"
   ]
  }
 ],
 "metadata": {
  "kernelspec": {
   "display_name": "Python 3",
   "language": "python",
   "name": "python3"
  },
  "language_info": {
   "codemirror_mode": {
    "name": "ipython",
    "version": 3
   },
   "file_extension": ".py",
   "mimetype": "text/x-python",
   "name": "python",
   "nbconvert_exporter": "python",
   "pygments_lexer": "ipython3",
   "version": "3.7.4"
  }
 },
 "nbformat": 4,
 "nbformat_minor": 5
}
